{
 "cells": [
  {
   "cell_type": "code",
   "execution_count": 27,
   "id": "initial_id",
   "metadata": {
    "collapsed": true,
    "ExecuteTime": {
     "end_time": "2024-01-25T23:58:13.977253Z",
     "start_time": "2024-01-25T23:58:13.960248Z"
    }
   },
   "outputs": [
    {
     "ename": "TypeError",
     "evalue": "__init__() missing 1 required positional argument: 'price'",
     "output_type": "error",
     "traceback": [
      "\u001B[0;31m---------------------------------------------------------------------------\u001B[0m",
      "\u001B[0;31mTypeError\u001B[0m                                 Traceback (most recent call last)",
      "Cell \u001B[0;32mIn[27], line 36\u001B[0m\n\u001B[1;32m     29\u001B[0m         \u001B[38;5;28;01mfor\u001B[39;00m item \u001B[38;5;129;01min\u001B[39;00m items:\n\u001B[1;32m     30\u001B[0m             Item(\n\u001B[1;32m     31\u001B[0m                 name \u001B[38;5;241m=\u001B[39m item\u001B[38;5;241m.\u001B[39mget(\u001B[38;5;124m'\u001B[39m\u001B[38;5;124mname\u001B[39m\u001B[38;5;124m'\u001B[39m),\n\u001B[1;32m     32\u001B[0m                 \u001B[38;5;66;03m#price = float(item.get('price')),\u001B[39;00m\n\u001B[1;32m     33\u001B[0m                 quantity \u001B[38;5;241m=\u001B[39m \u001B[38;5;28mint\u001B[39m(item\u001B[38;5;241m.\u001B[39mget(\u001B[38;5;124m'\u001B[39m\u001B[38;5;124mquantity\u001B[39m\u001B[38;5;124m'\u001B[39m)),\n\u001B[1;32m     34\u001B[0m             )\n\u001B[0;32m---> 36\u001B[0m \u001B[43mItem\u001B[49m\u001B[38;5;241;43m.\u001B[39;49m\u001B[43minstantiate_from_csv\u001B[49m\u001B[43m(\u001B[49m\u001B[43m)\u001B[49m\n\u001B[1;32m     37\u001B[0m \u001B[38;5;28mprint\u001B[39m(Item\u001B[38;5;241m.\u001B[39mall)\n\u001B[1;32m     39\u001B[0m \u001B[38;5;66;03m#item1 = Item(\"Phone\",100,1)\u001B[39;00m\n\u001B[1;32m     40\u001B[0m \u001B[38;5;66;03m#item1.name = \"Phone\"\u001B[39;00m\n\u001B[1;32m     41\u001B[0m \u001B[38;5;66;03m#item1.price = 100\u001B[39;00m\n\u001B[0;32m   (...)\u001B[0m\n\u001B[1;32m     57\u001B[0m \u001B[38;5;66;03m#item1.apply_discount()\u001B[39;00m\n\u001B[1;32m     58\u001B[0m \u001B[38;5;66;03m#print(item1.price)\u001B[39;00m\n",
      "Cell \u001B[0;32mIn[27], line 30\u001B[0m, in \u001B[0;36mItem.instantiate_from_csv\u001B[0;34m(cls)\u001B[0m\n\u001B[1;32m     28\u001B[0m     items \u001B[38;5;241m=\u001B[39m \u001B[38;5;28mlist\u001B[39m(reader)\n\u001B[1;32m     29\u001B[0m \u001B[38;5;28;01mfor\u001B[39;00m item \u001B[38;5;129;01min\u001B[39;00m items:\n\u001B[0;32m---> 30\u001B[0m     \u001B[43mItem\u001B[49m\u001B[43m(\u001B[49m\n\u001B[1;32m     31\u001B[0m \u001B[43m        \u001B[49m\u001B[43mname\u001B[49m\u001B[43m \u001B[49m\u001B[38;5;241;43m=\u001B[39;49m\u001B[43m \u001B[49m\u001B[43mitem\u001B[49m\u001B[38;5;241;43m.\u001B[39;49m\u001B[43mget\u001B[49m\u001B[43m(\u001B[49m\u001B[38;5;124;43m'\u001B[39;49m\u001B[38;5;124;43mname\u001B[39;49m\u001B[38;5;124;43m'\u001B[39;49m\u001B[43m)\u001B[49m\u001B[43m,\u001B[49m\n\u001B[1;32m     32\u001B[0m \u001B[43m        \u001B[49m\u001B[38;5;66;43;03m#price = float(item.get('price')),\u001B[39;49;00m\n\u001B[1;32m     33\u001B[0m \u001B[43m        \u001B[49m\u001B[43mquantity\u001B[49m\u001B[43m \u001B[49m\u001B[38;5;241;43m=\u001B[39;49m\u001B[43m \u001B[49m\u001B[38;5;28;43mint\u001B[39;49m\u001B[43m(\u001B[49m\u001B[43mitem\u001B[49m\u001B[38;5;241;43m.\u001B[39;49m\u001B[43mget\u001B[49m\u001B[43m(\u001B[49m\u001B[38;5;124;43m'\u001B[39;49m\u001B[38;5;124;43mquantity\u001B[39;49m\u001B[38;5;124;43m'\u001B[39;49m\u001B[43m)\u001B[49m\u001B[43m)\u001B[49m\u001B[43m,\u001B[49m\n\u001B[1;32m     34\u001B[0m \u001B[43m    \u001B[49m\u001B[43m)\u001B[49m\n",
      "\u001B[0;31mTypeError\u001B[0m: __init__() missing 1 required positional argument: 'price'"
     ]
    }
   ],
   "source": [
    "import csv\n",
    "\n",
    "\n",
    "class Item:\n",
    "    pay_rate = 0.8 #after discount value\n",
    "    all =[]\n",
    "    def __init__(self,name:str, price:float,quantity=0):\n",
    "        self.name = name\n",
    "        self.price = price\n",
    "        self.quantity = quantity\n",
    "        \n",
    "        #Actions to execute\n",
    "        Item.all.append(self)\n",
    "        \n",
    "    def calculate_total_price(self):\n",
    "        return self.price * self.quantity\n",
    "    \n",
    "    def __repr__(self):\n",
    "        return f\"Item('{self.name}',{self.price},{self.quantity})\"\n",
    "    \n",
    "    def apply_discount(self):\n",
    "        self.price = self.price * self.pay_rate\n",
    "        \n",
    "    @classmethod   \n",
    "    def instantiate_from_csv(cls):\n",
    "        with open('items.csv','r') as f:\n",
    "            reader = csv.DictReader(f)\n",
    "            items = list(reader)\n",
    "        for item in items:\n",
    "            Item(\n",
    "                name = item.get('name'),\n",
    "                price = float(item.get('price')),\n",
    "                quantity = int(item.get('quantity')),\n",
    "            )\n",
    "            \n",
    "Item.instantiate_from_csv()\n",
    "print(Item.all)\n",
    "\n",
    "#item1 = Item(\"Phone\",100,1)\n",
    "#item1.name = \"Phone\"\n",
    "#item1.price = 100\n",
    "#item1.quantity = 5\n",
    "#print(item1.calculate_total_price(item1.price,item1.quantity))\n",
    "\n",
    "#item2 = Item(\"Laptop\")\n",
    "#item2.name = \"Laptop\"\n",
    "#item2.price = 1000\n",
    "#item2.quantity = 3\n",
    "\n",
    "#item1 = Item(\"Phone\", 100, 1)\n",
    "#item2 = Item(\"Laptop\", 1000, 3)\n",
    "#item3 = Item(\"Cable\", 10, 5)\n",
    "#item4 = Item(\"Mouse\", 50, 5)\n",
    "#item5 = Item(\"Keyboard\", 75, 5)\n",
    "\n",
    "#print(Item.all)\n",
    "#item1.apply_discount()\n",
    "#print(item1.price)"
   ]
  },
  {
   "cell_type": "code",
   "outputs": [],
   "source": [],
   "metadata": {
    "collapsed": false,
    "ExecuteTime": {
     "end_time": "2024-01-25T23:12:50.940293Z",
     "start_time": "2024-01-25T23:12:50.937663Z"
    }
   },
   "id": "7d26272da568f4aa",
   "execution_count": 17
  },
  {
   "cell_type": "code",
   "outputs": [],
   "source": [],
   "metadata": {
    "collapsed": false
   },
   "id": "ca3e3cc1792d570e"
  }
 ],
 "metadata": {
  "kernelspec": {
   "display_name": "Python 3",
   "language": "python",
   "name": "python3"
  },
  "language_info": {
   "codemirror_mode": {
    "name": "ipython",
    "version": 2
   },
   "file_extension": ".py",
   "mimetype": "text/x-python",
   "name": "python",
   "nbconvert_exporter": "python",
   "pygments_lexer": "ipython2",
   "version": "2.7.6"
  }
 },
 "nbformat": 4,
 "nbformat_minor": 5
}
